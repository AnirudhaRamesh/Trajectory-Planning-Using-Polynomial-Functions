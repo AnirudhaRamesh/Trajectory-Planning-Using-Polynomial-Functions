{
 "cells": [
  {
   "cell_type": "code",
   "execution_count": 3,
   "metadata": {},
   "outputs": [],
   "source": [
    "import numpy as np \n",
    "import matplotlib.pyplot as plt"
   ]
  },
  {
   "cell_type": "code",
   "execution_count": 40,
   "metadata": {},
   "outputs": [],
   "source": [
    "def function_A(t,ti,tf):\n",
    "    d = tf - ti \n",
    "    rows = []\n",
    "    for i in range(3) : \n",
    "        T = (t[i]-ti)/(tf - ti)\n",
    "        rows.append([(1-T)**5,5*T*((1-T)**4),10*T*T*((1-T)**3),10*T*T*T*((1-T)**2),5*(T**4)*(1-T),T**5])\n",
    "    \n",
    "    for i in range(3,6):\n",
    "        T = (t[i]-ti)/(tf - ti)\n",
    "        rows.append([(-5*(1-T)**4)/d,5*((-T*(4*(1-T)**3)/d)+((1-T)**4)/d),10*((-T**2*(3*(1-T)**2)/d)+2*T*((1-T)**3)/d),10*((-T**3*(2*(1-T))/d)+3*(T**2)*((1-T)**2)/d),5*((-T**4)/d + ((1-T)*4*T**3)/d, 5*(T**4)/d)])\n",
    "    \n",
    "    print(rows)\n",
    "    return np.array(rows)"
   ]
  },
  {
   "cell_type": "code",
   "execution_count": 41,
   "metadata": {},
   "outputs": [
    {
     "name": "stdout",
     "output_type": "stream",
     "text": [
      "[[1.0, 0.0, 0.0, 0.0, 0.0, 0.0], [0.3276800000000001, 0.4096000000000001, 0.20480000000000007, 0.05120000000000002, 0.006400000000000002, 0.0003200000000000001], [0.0, 0.0, 0.0, 0.0, 0.0, 1.0], [-1.0, 1.0, 0.0, 0.0, (0.0, 0.0, 0.0, 0.0, 0.0, 0.0, 0.0, 0.0, 0.0, 0.0)], [-0.4096000000000001, 0.0, 0.25600000000000006, 0.12800000000000006, (0.004800000000000001, 0.0016000000000000003, 0.004800000000000001, 0.0016000000000000003, 0.004800000000000001, 0.0016000000000000003, 0.004800000000000001, 0.0016000000000000003, 0.004800000000000001, 0.0016000000000000003)], [-0.0, 0.0, 0.0, 0.0, (-0.2, 1.0, -0.2, 1.0, -0.2, 1.0, -0.2, 1.0, -0.2, 1.0)]]\n"
     ]
    },
    {
     "ename": "AttributeError",
     "evalue": "'list' object has no attribute 'shape'",
     "output_type": "error",
     "traceback": [
      "\u001b[1;31m---------------------------------------------------------------------------\u001b[0m",
      "\u001b[1;31mAttributeError\u001b[0m                            Traceback (most recent call last)",
      "\u001b[1;32m<ipython-input-41-1339e9470a3e>\u001b[0m in \u001b[0;36m<module>\u001b[1;34m\u001b[0m\n\u001b[0;32m      1\u001b[0m \u001b[0mA\u001b[0m \u001b[1;33m=\u001b[0m \u001b[0mfunction_A\u001b[0m\u001b[1;33m(\u001b[0m\u001b[1;33m[\u001b[0m\u001b[1;36m0\u001b[0m\u001b[1;33m,\u001b[0m\u001b[1;36m1\u001b[0m\u001b[1;33m,\u001b[0m\u001b[1;36m5\u001b[0m\u001b[1;33m,\u001b[0m\u001b[1;36m0\u001b[0m\u001b[1;33m,\u001b[0m\u001b[1;36m1\u001b[0m\u001b[1;33m,\u001b[0m\u001b[1;36m5\u001b[0m\u001b[1;33m]\u001b[0m\u001b[1;33m,\u001b[0m\u001b[1;36m0\u001b[0m\u001b[1;33m,\u001b[0m\u001b[1;36m5\u001b[0m\u001b[1;33m)\u001b[0m\u001b[1;33m\u001b[0m\u001b[1;33m\u001b[0m\u001b[0m\n\u001b[1;32m----> 2\u001b[1;33m \u001b[0mprint\u001b[0m\u001b[1;33m(\u001b[0m\u001b[0mA\u001b[0m\u001b[1;33m[\u001b[0m\u001b[1;36m0\u001b[0m\u001b[1;33m]\u001b[0m\u001b[1;33m.\u001b[0m\u001b[0mshape\u001b[0m\u001b[1;33m)\u001b[0m\u001b[1;33m\u001b[0m\u001b[1;33m\u001b[0m\u001b[0m\n\u001b[0m\u001b[0;32m      3\u001b[0m \u001b[1;31m# bx = np.array([3,1,9,0,0,0])\u001b[0m\u001b[1;33m\u001b[0m\u001b[1;33m\u001b[0m\u001b[1;33m\u001b[0m\u001b[0m\n\u001b[0;32m      4\u001b[0m \u001b[1;31m# x = np.linalg.solve(A,bx)\u001b[0m\u001b[1;33m\u001b[0m\u001b[1;33m\u001b[0m\u001b[1;33m\u001b[0m\u001b[0m\n\u001b[0;32m      5\u001b[0m \u001b[1;31m# by = np.array([0,2.5,5,0,0,0])\u001b[0m\u001b[1;33m\u001b[0m\u001b[1;33m\u001b[0m\u001b[1;33m\u001b[0m\u001b[0m\n",
      "\u001b[1;31mAttributeError\u001b[0m: 'list' object has no attribute 'shape'"
     ]
    }
   ],
   "source": [
    "A = function_A([0,1,5,0,1,5],0,5)\n",
    "print(A[0].shape)\n",
    "# bx = np.array([3,1,9,0,0,0])\n",
    "# x = np.linalg.solve(A,bx)\n",
    "# by = np.array([0,2.5,5,0,0,0])\n",
    "# y = np.linalg.solve(A,by)"
   ]
  },
  {
   "cell_type": "code",
   "execution_count": null,
   "metadata": {},
   "outputs": [],
   "source": []
  }
 ],
 "metadata": {
  "kernelspec": {
   "display_name": "Python 3",
   "language": "python",
   "name": "python3"
  },
  "language_info": {
   "codemirror_mode": {
    "name": "ipython",
    "version": 3
   },
   "file_extension": ".py",
   "mimetype": "text/x-python",
   "name": "python",
   "nbconvert_exporter": "python",
   "pygments_lexer": "ipython3",
   "version": "3.7.3"
  }
 },
 "nbformat": 4,
 "nbformat_minor": 2
}
